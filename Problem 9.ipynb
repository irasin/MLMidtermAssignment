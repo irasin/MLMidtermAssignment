{
 "cells": [
  {
   "cell_type": "code",
   "execution_count": 1,
   "metadata": {},
   "outputs": [],
   "source": [
    "__author__ = \"CHEN CHEN\"\n",
    "__studentID__ = \"18M15221\"\n",
    "__date__ = \"2018/07/15\"\n",
    "\n",
    "\"\"\"\n",
    "Problem 9 source code\n",
    "\n",
    "Parctice of machine learning using iris dataset\n",
    "\"\"\"\n",
    "\n",
    "from sklearn.datasets import load_iris\n",
    "from sklearn.model_selection import train_test_split\n",
    "from sklearn.metrics import accuracy_score\n",
    "from sklearn.svm import SVC\n",
    "from sklearn.tree import DecisionTreeClassifier\n",
    "from sklearn.linear_model import LogisticRegression"
   ]
  },
  {
   "cell_type": "code",
   "execution_count": 2,
   "metadata": {},
   "outputs": [],
   "source": [
    "# load iris data\n",
    "iris = load_iris()\n",
    "X, y = iris[\"data\"], iris[\"target\"]\n",
    "train_X, test_X, train_y, test_y = train_test_split(X, y, test_size=0.3, random_state=0)"
   ]
  },
  {
   "cell_type": "markdown",
   "metadata": {},
   "source": [
    "## SVM"
   ]
  },
  {
   "cell_type": "code",
   "execution_count": 3,
   "metadata": {},
   "outputs": [
    {
     "name": "stdout",
     "output_type": "stream",
     "text": [
      "\n",
      "SVC Train Accuracy: 98.10%\n",
      "SVC Test Accuracy: 97.78%\n"
     ]
    }
   ],
   "source": [
    "clf1 = SVC()\n",
    "clf1.fit(train_X, train_y)\n",
    "print(f\"\")\n",
    "print(f\"{clf1.__class__.__name__} Train Accuracy: {accuracy_score(clf1.predict(train_X), train_y):.2%}\")\n",
    "print(f\"{clf1.__class__.__name__} Test Accuracy: {accuracy_score(clf1.predict(test_X), test_y):.2%}\")"
   ]
  },
  {
   "cell_type": "markdown",
   "metadata": {},
   "source": [
    "## Decision Tree"
   ]
  },
  {
   "cell_type": "code",
   "execution_count": 4,
   "metadata": {},
   "outputs": [
    {
     "name": "stdout",
     "output_type": "stream",
     "text": [
      "DecisionTreeClassifier Train Accuracy: 100.00%\n",
      "DecisionTreeClassifier Test Accuracy: 97.78%\n"
     ]
    }
   ],
   "source": [
    "clf2 = DecisionTreeClassifier()\n",
    "clf2.fit(train_X, train_y)\n",
    "print(f\"{clf2.__class__.__name__} Train Accuracy: {accuracy_score(clf2.predict(train_X), train_y):.2%}\")\n",
    "print(f\"{clf2.__class__.__name__} Test Accuracy: {accuracy_score(clf2.predict(test_X), test_y):.2%}\")"
   ]
  },
  {
   "cell_type": "markdown",
   "metadata": {},
   "source": [
    "## Logistic Regression"
   ]
  },
  {
   "cell_type": "code",
   "execution_count": 5,
   "metadata": {},
   "outputs": [
    {
     "name": "stdout",
     "output_type": "stream",
     "text": [
      "LogisticRegression Train Accuracy: 94.29%\n",
      "LogisticRegression Test Accuracy: 88.89%\n"
     ]
    }
   ],
   "source": [
    "clf3 = LogisticRegression()\n",
    "clf3.fit(train_X, train_y)\n",
    "print(f\"{clf3.__class__.__name__} Train Accuracy: {accuracy_score(clf3.predict(train_X), train_y):.2%}\")\n",
    "print(f\"{clf3.__class__.__name__} Test Accuracy: {accuracy_score(clf3.predict(test_X), test_y):.2%}\")"
   ]
  }
 ],
 "metadata": {
  "kernelspec": {
   "display_name": "Python 3",
   "language": "python",
   "name": "python3"
  },
  "language_info": {
   "codemirror_mode": {
    "name": "ipython",
    "version": 3
   },
   "file_extension": ".py",
   "mimetype": "text/x-python",
   "name": "python",
   "nbconvert_exporter": "python",
   "pygments_lexer": "ipython3",
   "version": "3.6.6"
  },
  "toc": {
   "base_numbering": 1,
   "nav_menu": {},
   "number_sections": true,
   "sideBar": true,
   "skip_h1_title": false,
   "title_cell": "Table of Contents",
   "title_sidebar": "Contents",
   "toc_cell": false,
   "toc_position": {},
   "toc_section_display": true,
   "toc_window_display": false
  }
 },
 "nbformat": 4,
 "nbformat_minor": 2
}
