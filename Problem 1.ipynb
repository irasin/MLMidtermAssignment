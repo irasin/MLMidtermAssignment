{
 "cells": [
  {
   "cell_type": "code",
   "execution_count": 1,
   "metadata": {},
   "outputs": [],
   "source": [
    "__author__ = \"CHEN CHEN\"\n",
    "__studentID__ = \"18M15221\"\n",
    "__date__ = \"2018/07/17\"\n",
    "\n",
    "\"\"\"\n",
    "Problem 1 source code\n",
    "\n",
    "Including the implementation of Logistic Regression by the steepest gradient method and the Newton based method.\n",
    "\n",
    "\"\"\"\n",
    "\n",
    "import numpy as np\n",
    "import matplotlib.pyplot as plt\n",
    "%matplotlib inline"
   ]
  },
  {
   "cell_type": "code",
   "execution_count": 2,
   "metadata": {},
   "outputs": [],
   "source": [
    "class LogisticRegressionGD:\n",
    "    \"\"\"\n",
    "    Implementation of Logistic Regression based on gradient descent for Problem 1\n",
    "\n",
    "    :param lam: float, default: 0.1\n",
    "                 Lambda as the  parameter of the regularization. larger values specify stronger regularization.\n",
    "\n",
    "    :param lr: float, default: 0.01\n",
    "                Learning rate of the gradient descent.\n",
    "\n",
    "    :param iter: int, default: 50\n",
    "                  Iterations of the training.\n",
    "\n",
    "    \"\"\"\n",
    "    def __init__(self, w=None, lam=0.1, lr=0.01, iter=50):\n",
    "        self.w = w\n",
    "        self.lam = lam\n",
    "        self.lr = lr\n",
    "        self.iter = iter\n",
    "        self.train_loss = []\n",
    "\n",
    "    def prob(self, x, y, w=None):\n",
    "        \"\"\"\n",
    "        Sigmoid function to calculate the probability of input samples\n",
    "\n",
    "        :param x: array_like, shape(n_samples, n_features)\n",
    "                   Training array, where n_samples is the number of samples and n_features is the number of features.\n",
    "\n",
    "        :param y: array_like, shape(n_samples)\n",
    "                   Target array relative to X.\n",
    "\n",
    "        :return: int/array_like,\n",
    "                   Probability defined by sigmoid function.\n",
    "        \"\"\"\n",
    "        if w is None:\n",
    "            assert self.w is not None, \"Call fit() to train the model firstly\"\n",
    "            w = self.w\n",
    "        return 1 / (1 + np.exp(-y * x.dot(self.w)))\n",
    "\n",
    "    def loss(self, x, y, w=None):\n",
    "        \"\"\"\n",
    "        Loss function also expressed as J(w)\n",
    "\n",
    "        :param x: array_like, shape(n_samples, n_features)\n",
    "                   Training array, where n_samples is the number of samples and n_features is the number of features.\n",
    "\n",
    "        :param y: array_like, shape(n_samples)\n",
    "                   Target array relative to X.\n",
    "\n",
    "        :param w: array_like, shape(n_features)\n",
    "                   Weight array.\n",
    "\n",
    "        :return:  array_like,\n",
    "                   Loss calculated at the input samples associated with the current weight w.\n",
    "        \"\"\"\n",
    "        if w is None:\n",
    "            assert self.w is not None, \"Call fit() to train the model firstly\"\n",
    "            w = self.w\n",
    "        return np.sum(-np.log(self.prob(x, y, w))) + self.lam * w.dot(w)\n",
    "\n",
    "    def gradient(self, x, y, w=None):\n",
    "        \"\"\"\n",
    "        Gradient of the current weight w.\n",
    "\n",
    "        :param x: array_like, shape(n_samples, n_features)\n",
    "                   Training array, where n_samples is the number of samples and n_features is the number of features.\n",
    "\n",
    "        :param y: array_like, shape(n_samples)\n",
    "                   Target array relative to X.\n",
    "\n",
    "        :param w: array_like, shape(n_features)\n",
    "                   Weight array.\n",
    "\n",
    "        :return:  int/array_like,\n",
    "                   Gradient calculated at the input samples associated with the current weight w.\n",
    "        \"\"\"\n",
    "        if w is None:\n",
    "            assert self.w is not None, \"Call fit() to train the model firstly\"\n",
    "            w = self.w\n",
    "        return np.sum((1 - self.prob(x, y, w)) * (-x.T * y), axis=1) + 2 * self.lam * w\n",
    "\n",
    "    def fit(self, x, y):\n",
    "        \"\"\"\n",
    "        Main routine of the model by fitting the given training data using GD.\n",
    "        The details will be discussed in the report.\n",
    "\n",
    "        :param x: array_like, shape(n_samples, n_features)\n",
    "                   Training array, where n_samples is the number of samples and n_features is the number of features.\n",
    "\n",
    "        :param y: array_like, shape(n_samples)\n",
    "                   Target array relative to X.\n",
    "\n",
    "        :return:  None\n",
    "        \"\"\"\n",
    "        _, d = x.shape\n",
    "        self.w = np.zeros(d)\n",
    "        for _ in range(self.iter):\n",
    "            self.train_loss.append(self.loss(x, y, self.w))\n",
    "            self.w -= self.lr * self.gradient(x, y, self.w)\n",
    "\n",
    "    def visualize(self):\n",
    "        \"\"\"\n",
    "        Visualize the loss J(w) w.r.t the iteration.\n",
    "\n",
    "        :return: None\n",
    "        \"\"\"\n",
    "        assert self.train_loss, \"Call fit() to train the model firstly\"\n",
    "        plt.figure(figsize=(8, 8))\n",
    "        plt.plot(np.arange(self.iter), self.train_loss, c=\"b\", label=\"Train Loss\")\n",
    "        plt.xlabel(\"iteration\")\n",
    "        plt.ylabel(\"J(w)\")\n",
    "        plt.legend()\n",
    "        # plt.savefig(f\"{self.__class__.__name__}.pdf\")\n",
    "        plt.show()\n",
    "\n",
    "    def indicator(self, x, w=None):\n",
    "        \"\"\"\n",
    "        Indicator function which classifier the input samples.\n",
    "\n",
    "        :param x: array_like, shape(n_samples, n_features)\n",
    "                   Training array, where n_samples is the number of samples and n_features is the number of features.\n",
    "\n",
    "        :param w: array_like, shape(n_features)\n",
    "                   Weight array.\n",
    "\n",
    "        :return: int/array_like\n",
    "                   Label of the input samples.\n",
    "        \"\"\"\n",
    "        if w is None:\n",
    "            assert self.w is not None, \"Call fit() to train the model firstly\"\n",
    "            w = self.w\n",
    "        return np.heaviside(x.dot(w), 0)\n",
    "\n",
    "    def predict(self, x):\n",
    "        assert self.w is not None, \"Call fit() to train the model firstly\"\n",
    "        return 2 * self.indicator(x, self.w) - 1\n"
   ]
  },
  {
   "cell_type": "code",
   "execution_count": 3,
   "metadata": {},
   "outputs": [],
   "source": [
    "class LogisticRegressionNewton(LogisticRegressionGD):\n",
    "    \"\"\"\n",
    "    Implementation of Logistic Regression based on Newton method  for Problem 1\n",
    "\n",
    "    Parameters:\n",
    "        lam: float, default: 0.1\n",
    "            Lambda as the  parameter of the regularization. larger values specify stronger regularization.\n",
    "\n",
    "        lr: float, default: 1\n",
    "            Learning rate of the gradient descent. We use fixed learing rate 1 for Netwon method.\n",
    "\n",
    "        iter: int, default: 50\n",
    "            Iterations of the training.\n",
    "\n",
    "    \"\"\"\n",
    "    def __init__(self, w=None, lam=0.1, lr=1, iter=50):\n",
    "        super().__init__(w, lam, lr, iter)\n",
    "\n",
    "    def hessian_matrix(self, x, y, w):\n",
    "        \"\"\"\n",
    "        Hessian matrix.\n",
    "\n",
    "        :param x: array_like, shape(n_samples, n_features)\n",
    "                   Training array, where n_samples is the number of samples and n_features is the number of features.\n",
    "\n",
    "        :param y: array_like, shape(n_samples)\n",
    "                   Target array relative to X.\n",
    "\n",
    "        :return:  array_like,\n",
    "                   Hessian matrix.\n",
    "        \"\"\"\n",
    "        return x.T.dot(np.diag((1-self.prob(x, y, w)) * self.prob(x, y, w))).dot(x) + 2 * self.lam * np.eye(x.shape[1])\n",
    "\n",
    "    def fit(self, x, y):\n",
    "        \"\"\"\n",
    "        Main routine of the model by fitting the given training data using Newton method.\n",
    "        The details will be discussed in the report.\n",
    "\n",
    "        :param x: array_like, shape(n_samples, n_features)\n",
    "                   Training array, where n_samples is the number of samples and n_features is the number of features.\n",
    "\n",
    "        :param y: array_like, shape(n_samples)\n",
    "                   Target array relative to X.\n",
    "\n",
    "        :return:  None\n",
    "        \"\"\"\n",
    "        _, d = x.shape\n",
    "        self.w = np.zeros(d)\n",
    "        for _ in range(self.iter):\n",
    "            self.train_loss.append(self.loss(x, y, self.w))\n",
    "            self.w -= self.lr * np.linalg.inv(self.hessian_matrix(x, y, self.w)).dot(self.gradient(x, y, self.w))"
   ]
  },
  {
   "cell_type": "markdown",
   "metadata": {},
   "source": [
    "## generate dataset 2"
   ]
  },
  {
   "cell_type": "code",
   "execution_count": 4,
   "metadata": {},
   "outputs": [],
   "source": [
    "# set seed\n",
    "np.random.seed(15221)\n",
    "\n",
    "n = 40\n",
    "omega = np.random.randn(1)\n",
    "noise = 0.8 * np.random.randn(n, 1)\n",
    "x = np.random.randn(n, 2)\n",
    "y = omega * x[:, 0].reshape(-1, 1) + x[:, 1].reshape(-1, 1) + noise\n",
    "y = (2 * np.heaviside(y, 0) - 1)[:, 0]"
   ]
  },
  {
   "cell_type": "markdown",
   "metadata": {},
   "source": [
    "## plot dataset 2"
   ]
  },
  {
   "cell_type": "code",
   "execution_count": 5,
   "metadata": {},
   "outputs": [
    {
     "data": {
      "image/png": "[encoded data removed]",
      "text/plain": [
       "<matplotlib.figure.Figure at 0x29410beb3c8>"
      ]
     },
     "metadata": {},
     "output_type": "display_data"
    }
   ],
   "source": [
    "plt.figure(figsize=(8, 8))\n",
    "plt.scatter(x[:, 0], x[:, 1], c=y)\n",
    "plt.xlabel(\"x1\")\n",
    "plt.ylabel(\"x2\")\n",
    "# plt.savefig(\"Dataset2.pdf\")\n",
    "plt.show()"
   ]
  },
  {
   "cell_type": "markdown",
   "metadata": {},
   "source": [
    "## train LogisticRegressionGD model"
   ]
  },
  {
   "cell_type": "code",
   "execution_count": 6,
   "metadata": {},
   "outputs": [
    {
     "data": {
      "image/png": "[encoded data removed]",
      "text/plain": [
       "<matplotlib.figure.Figure at 0x29410c9d828>"
      ]
     },
     "metadata": {},
     "output_type": "display_data"
    }
   ],
   "source": [
    "clf1 = LogisticRegressionGD()\n",
    "clf1.fit(x, y)\n",
    "clf1.visualize()"
   ]
  },
  {
   "cell_type": "markdown",
   "metadata": {},
   "source": [
    "## train LogisticRegressionNewton model"
   ]
  },
  {
   "cell_type": "code",
   "execution_count": 7,
   "metadata": {},
   "outputs": [
    {
     "data": {
      "image/png": "[encoded data removed]",
      "text/plain": [
       "<matplotlib.figure.Figure at 0x29410d7b198>"
      ]
     },
     "metadata": {},
     "output_type": "display_data"
    }
   ],
   "source": [
    "clf2 = LogisticRegressionNewton()\n",
    "clf2.fit(x, y)\n",
    "clf2.visualize()"
   ]
  },
  {
   "cell_type": "markdown",
   "metadata": {},
   "source": [
    "## compare the performance of the steepest gradient method and Newton based method"
   ]
  },
  {
   "cell_type": "code",
   "execution_count": 8,
   "metadata": {},
   "outputs": [
    {
     "data": {
      "image/png": "[encoded data removed]",
      "text/plain": [
       "<matplotlib.figure.Figure at 0x29410f077b8>"
      ]
     },
     "metadata": {},
     "output_type": "display_data"
    }
   ],
   "source": [
    "plt.figure(figsize=(8, 8))\n",
    "plt.plot(np.arange(clf1.iter), clf1.train_loss, c=\"b\", label=\"GD\")\n",
    "plt.plot(np.arange(clf1.iter), clf2.train_loss, c=\"r\", label=\"Newton\")\n",
    "plt.xlabel(\"iteration\")\n",
    "plt.ylabel(\"J(w)\")\n",
    "plt.legend()\n",
    "# plt.savefig(\"compare.pdf\")\n",
    "plt.show()"
   ]
  }
 ],
 "metadata": {
  "kernelspec": {
   "display_name": "Python 3",
   "language": "python",
   "name": "python3"
  },
  "language_info": {
   "codemirror_mode": {
    "name": "ipython",
    "version": 3
   },
   "file_extension": ".py",
   "mimetype": "text/x-python",
   "name": "python",
   "nbconvert_exporter": "python",
   "pygments_lexer": "ipython3",
   "version": "3.6.4"
  },
  "toc": {
   "base_numbering": 1,
   "nav_menu": {},
   "number_sections": true,
   "sideBar": true,
   "skip_h1_title": false,
   "title_cell": "Table of Contents",
   "title_sidebar": "Contents",
   "toc_cell": false,
   "toc_position": {},
   "toc_section_display": true,
   "toc_window_display": false
  }
 },
 "nbformat": 4,
 "nbformat_minor": 2
}
