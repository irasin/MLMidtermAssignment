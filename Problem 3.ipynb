{
 "cells": [
  {
   "cell_type": "code",
   "execution_count": 1,
   "metadata": {},
   "outputs": [],
   "source": [
    "__author__ = \"CHEN CHEN\"\n",
    "__studentID__ = \"18M15221\"\n",
    "__date__ = \"2018/07/17\"\n",
    "\n",
    "\"\"\"\n",
    "Problem 3 source code\n",
    "\n",
    "Including the implementation of dual of the support vector machine with l2 regularization optimized by projected gradient.\n",
    "\"\"\"\n",
    "\n",
    "import numpy as np\n",
    "import matplotlib.pyplot as plt\n",
    "%matplotlib inline"
   ]
  },
  {
   "cell_type": "code",
   "execution_count": 2,
   "metadata": {},
   "outputs": [],
   "source": [
    "class LagrangeDualSVM:\n",
    "    \"\"\"\n",
    "    :param alpha: array_like, shape(n_samples)\n",
    "                  dual variables of the LagrangeDualSVM\n",
    "\n",
    "    :param lam: float, default: 1\n",
    "                Lambda as the  parameter of the regularization. larger values specify stronger regularization.\n",
    "\n",
    "    :param lr: float, default: 0.01\n",
    "               Learning rate of the LagrangeDualSVM.\n",
    "               \n",
    "    :param iter: int, default: 1000\n",
    "                 Iterations of the training.\n",
    "    \"\"\"\n",
    "    def __init__(self, alpha=None, lam=1, lr=0.01, iter=1000):\n",
    "        self.alpha = alpha\n",
    "        self.lam = lam\n",
    "        self.lr = lr\n",
    "        self.iter = iter\n",
    "        self.score = []\n",
    "        self.loss_and_reg = []\n",
    "        self.K = None\n",
    "\n",
    "    def _lagrange_function(self, K, alpha):\n",
    "        \"\"\"\n",
    "        Implementation of Lagrange Dual SVM.\n",
    "\n",
    "        :param K: array_like, shape(n_samples, n_samples)\n",
    "                  Symmertic square matrix of the given samples.\n",
    "\n",
    "        :param alpha: array_like, shape(n_samples)\n",
    "                      dual variables of the LagrangeDualSVM\n",
    "\n",
    "        :return: float,\n",
    "                 Objective function value.\n",
    "\n",
    "        \"\"\"\n",
    "        return alpha.T.dot(K).dot(alpha) / (-4*self.lam) + sum(alpha)\n",
    "\n",
    "    @staticmethod\n",
    "    def _hinge_loss(X, y, w):\n",
    "        \"\"\"\n",
    "        Hinge loss of the given samples and current weight w.\n",
    "\n",
    "        :param X: array_like, shape(n_samples, n_features)\n",
    "                   Training array, where n_samples is the number of samples and n_features is the number of features.\n",
    "\n",
    "        :param y: array_like, shape(n_samples)\n",
    "                   Target array relative to X.\n",
    "\n",
    "        :param w: array_like, shape(n_features)\n",
    "                   Weight array.\n",
    "        :return: float,\n",
    "                 Sum of the hinge loss.\n",
    "        \"\"\"\n",
    "        return np.sum(list(map(lambda x: 0 if x < 0 else x, 1 - X.dot(w)*y)))\n",
    "\n",
    "    def _loss_and_regularization(self, X, y, alpha):\n",
    "        \"\"\"\n",
    "        Calculate the sum of hinge loss and regularization.\n",
    "\n",
    "        :param X: array_like, shape(n_samples, n_features)\n",
    "                   Training array, where n_samples is the number of samples and n_features is the number of features.\n",
    "\n",
    "        :param y: array_like, shape(n_samples)\n",
    "                   Target array relative to X.\n",
    "\n",
    "        :param alpha: array_like, shape(n_samples)\n",
    "                      Dual variables of the LagrangeDualSVM\n",
    "\n",
    "        :return: float,\n",
    "                 Sum of the hinge loss and regularization.\n",
    "        \"\"\"\n",
    "        w = np.sum(X.T*(alpha*y), axis=1) / (2*self.lam)\n",
    "        return self._hinge_loss(X, y, w) + self.lam*w.dot(w)\n",
    "\n",
    "    def _gradient(self, alpha):\n",
    "        \"\"\"\n",
    "        Gradient of the current dual variables alpha.\n",
    "\n",
    "        :param alpha: array_like, shape(n_samples)\n",
    "                      Dual variables of the LagrangeDualSVM\n",
    "\n",
    "        :return: array_like, shape(n_samples)\n",
    "                 Gradient array.\n",
    "\n",
    "        \"\"\"\n",
    "        return self.K.dot(alpha) / (2*self.lam) - np.ones(len(alpha))\n",
    "\n",
    "    @staticmethod\n",
    "    def _projected_gradient(alpha):\n",
    "        \"\"\"\n",
    "        Implementation of the projected gradient method.\n",
    "\n",
    "        :param alpha: array_like, shape(n_samples)\n",
    "                      Dual variables of the LagrangeDualSVM\n",
    "\n",
    "        :return: array_like, shape(n_samples)\n",
    "                 Projected gradient array.\n",
    "        \"\"\"\n",
    "        return np.array(list(map(lambda x: 1 if x > 1 else(0 if x < 0 else x), alpha)))\n",
    "\n",
    "    def fit(self, X, y):\n",
    "        \"\"\"\n",
    "        Main routine of the model by fitting the given training data using projected gradient.\n",
    "\n",
    "        :param X: array_like, shape(n_samples, n_features)\n",
    "                   Training array, where n_samples is the number of samples and n_features is the number of features.\n",
    "\n",
    "        :param y: array_like, shape(n_samples)\n",
    "                   Target array relative to X.\n",
    "\n",
    "        :return: None\n",
    "        \"\"\"\n",
    "        X = np.hstack((X, np.ones(X.shape[0]).reshape(-1, 1)))\n",
    "        self.alpha = np.zeros(n)\n",
    "        self.K = (X.T*y).T.dot(X.T*y)\n",
    "        for _ in range(self.iter):\n",
    "            self.score.append(self._lagrange_function(self.K, self.alpha))\n",
    "            self.loss_and_reg.append(self._loss_and_regularization(X, y, self.alpha))\n",
    "            self.alpha = self.alpha - self.lr*self._gradient(self.alpha)\n",
    "            self.alpha = self._projected_gradient(self.alpha)\n",
    "\n",
    "    def visualize(self):\n",
    "        \"\"\"\n",
    "        Visualize the score and sum of hinge loss and the regularization w.r.t the iteration.\n",
    "\n",
    "        :return: None\n",
    "        \"\"\"\n",
    "        assert self.score and self.loss_and_reg, \"Call fit() to train the model firstly\"\n",
    "        plt.figure(figsize=(8, 8))\n",
    "        plt.plot(np.arange(self.iter), self.score, c=\"b\", label=\"score of dual largange function\")\n",
    "        plt.plot(np.arange(self.iter), self.loss_and_reg, c=\"r\", label=\"sum of hinge loss and the regularization\")\n",
    "        plt.xlabel(\"iteration\")\n",
    "        plt.title(\"Result\")\n",
    "        plt.legend()\n",
    "#         plt.savefig(\"comparison.pdf\")\n",
    "        plt.show()\n",
    "\n",
    "    def plot_hyperplane(self, X, y):\n",
    "        \"\"\"\n",
    "        Plot the hyperplane defined by the dual SVM.\n",
    "\n",
    "        :param X: array_like, shape(n_samples, n_features)\n",
    "                   Training array, where n_samples is the number of samples and n_features is the number of features.\n",
    "\n",
    "        :param y: array_like, shape(n_samples)\n",
    "                   Target array relative to X.\n",
    "\n",
    "        :return: None\n",
    "        \"\"\"\n",
    "        assert self.alpha is not None, \"Call fit() to train the model firstly\"\n",
    "        plt.figure(figsize=(8, 8))\n",
    "        plt.scatter(X[:, 0], X[:, 1], c=y)\n",
    "        X = np.hstack((X, np.ones(X.shape[0]).reshape(-1, 1)))\n",
    "        w = np.sum(X.T*(self.alpha * y), axis=1) / (2 * self.lam)\n",
    "        x = np.linspace(np.min(X[:, 0]), np.max(X[:, 1]), 100)\n",
    "        plane = -(w[0] * x + w[2]) / w[1]\n",
    "        plt.plot(x, plane, c=\"b\")\n",
    "#         plt.savefig(\"hyperplane.pdf\")\n",
    "        plt.show()"
   ]
  },
  {
   "cell_type": "markdown",
   "metadata": {},
   "source": [
    "## generate dataset 2"
   ]
  },
  {
   "cell_type": "code",
   "execution_count": 3,
   "metadata": {},
   "outputs": [],
   "source": [
    "# set seed\n",
    "np.random.seed(15221)\n",
    "\n",
    "n = 40\n",
    "omega = np.random.randn(1)\n",
    "noise = 0.8 * np.random.randn(n, 1)\n",
    "x = np.random.randn(n, 2)\n",
    "y = omega * x[:, 0].reshape(-1, 1) + x[:, 1].reshape(-1, 1) + noise\n",
    "y = (2 * np.heaviside(y, 0) - 1)[:, 0]"
   ]
  },
  {
   "cell_type": "markdown",
   "metadata": {},
   "source": [
    "## plot dataset 2"
   ]
  },
  {
   "cell_type": "code",
   "execution_count": 4,
   "metadata": {},
   "outputs": [
    {
     "data": {
      "image/png": "[encoded data removed]",
      "text/plain": [
       "<Figure size 576x576 with 1 Axes>"
      ]
     },
     "metadata": {},
     "output_type": "display_data"
    }
   ],
   "source": [
    "plt.figure(figsize=(8, 8))\n",
    "plt.scatter(x[:, 0], x[:, 1], c=y)\n",
    "plt.xlabel(\"x1\")\n",
    "plt.ylabel(\"x2\")\n",
    "# plt.savefig(\"Dataset2.pdf\")\n",
    "plt.show()"
   ]
  },
  {
   "cell_type": "markdown",
   "metadata": {},
   "source": [
    "## train LagrangeDualSVM model"
   ]
  },
  {
   "cell_type": "code",
   "execution_count": 5,
   "metadata": {},
   "outputs": [
    {
     "data": {
      "image/png": "[encoded data removed]",
      "text/plain": [
       "<Figure size 576x576 with 1 Axes>"
      ]
     },
     "metadata": {},
     "output_type": "display_data"
    }
   ],
   "source": [
    "clf = LagrangeDualSVM()\n",
    "clf.fit(x, y)\n",
    "clf.visualize()"
   ]
  },
  {
   "cell_type": "markdown",
   "metadata": {},
   "source": [
    "## plot the hyperplane after training"
   ]
  },
  {
   "cell_type": "code",
   "execution_count": 6,
   "metadata": {},
   "outputs": [
    {
     "data": {
      "image/png": "[encoded data removed]",
      "text/plain": [
       "<Figure size 576x576 with 1 Axes>"
      ]
     },
     "metadata": {},
     "output_type": "display_data"
    }
   ],
   "source": [
    "clf.plot_hyperplane(x, y)"
   ]
  }
 ],
 "metadata": {
  "kernelspec": {
   "display_name": "Python 3",
   "language": "python",
   "name": "python3"
  },
  "language_info": {
   "codemirror_mode": {
    "name": "ipython",
    "version": 3
   },
   "file_extension": ".py",
   "mimetype": "text/x-python",
   "name": "python",
   "nbconvert_exporter": "python",
   "pygments_lexer": "ipython3",
   "version": "3.6.6"
  },
  "toc": {
   "base_numbering": 1,
   "nav_menu": {},
   "number_sections": false,
   "sideBar": true,
   "skip_h1_title": false,
   "title_cell": "Table of Contents",
   "title_sidebar": "Contents",
   "toc_cell": false,
   "toc_position": {},
   "toc_section_display": true,
   "toc_window_display": false
  }
 },
 "nbformat": 4,
 "nbformat_minor": 2
}
